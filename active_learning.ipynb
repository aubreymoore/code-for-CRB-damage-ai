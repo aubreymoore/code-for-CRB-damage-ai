{
 "cells": [
  {
   "cell_type": "code",
   "execution_count": 11,
   "metadata": {},
   "outputs": [],
   "source": [
    "import pandas as pd\n",
    "import glob\n",
    "import os\n",
    "from icecream import ic\n",
    "import sqlite3\n",
    "import random\n",
    "from datetime import datetime\n",
    "import shutil\n",
    "import subprocess"
   ]
  },
  {
   "cell_type": "code",
   "execution_count": 12,
   "metadata": {},
   "outputs": [],
   "source": [
    "IMAGE_DIR_PATH = '/home/aubrey/Desktop/Guam07-training-set/rawdata'\n",
    "DB_PATH = 'active_learning.sqlite3'\n",
    "DATASET_DIR = '/home/aubrey/Desktop/Guam07-training-set/datasets/active_learning'\n",
    "LABELIMG_PATH = '/home/aubrey/labelImg/labelImg.py', "
   ]
  },
  {
   "cell_type": "code",
   "execution_count": 13,
   "metadata": {},
   "outputs": [],
   "source": [
    "def time_format(): \n",
    "    now = datetime.now() \n",
    "    return f'{now.strftime(\"%H:%M:%S\")} --> '\n",
    "  \n",
    "ic.configureOutput(prefix=time_format) "
   ]
  },
  {
   "cell_type": "code",
   "execution_count": 14,
   "metadata": {},
   "outputs": [],
   "source": [
    "def initialize_db(image_dir_path: str, db_path: str):\n",
    "    \"\"\"\n",
    "    Creates an SQLite database and adds an 'images' table with 3 fields: 'imagefilename', 'randy' and 'subset'\n",
    "    The default value for 'subset' is 'pool'.\n",
    "    'randy' is populated with 'random.randint(0, 1000000)'. \n",
    "    Set a seed in the main code to enable reproducable random sequences (eg: 'random.seed(42)').\n",
    "    \"\"\"\n",
    "    ic()\n",
    "    conn = sqlite3.connect(DB_PATH)\n",
    "    conn.row_factory = sqlite3.Row   # enables accessing values in results by field name\n",
    "    conn.execute('DROP TABLE IF EXISTS images;')\n",
    "    conn.execute('CREATE TABLE images (imagefilename TEXT, randy INTEGER, subset TEXT DEFAULT \"pool\");')\n",
    "    for imagepath in glob.iglob(f'{IMAGE_DIR_PATH}/*.jpg'):\n",
    "        imagefilename = os.path.basename(imagepath)\n",
    "        randy = random.randint(0, 1000000)\n",
    "        conn.execute(f'INSERT INTO images (imagefilename, randy) VALUES(\"{imagefilename}\", {randy});')\n",
    "    conn.commit()\n",
    "    conn.close()"
   ]
  },
  {
   "cell_type": "code",
   "execution_count": 15,
   "metadata": {},
   "outputs": [],
   "source": [
    "def pool2subset(subset: str, n: int):\n",
    "    '''\n",
    "    Changes the images.subset DB field in \"n\" randomly selected records from \"pool\" to the value specified by subset.\n",
    "    '''\n",
    "    ic()\n",
    "    conn = sqlite3.connect(DB_PATH)\n",
    "    sql = f'''UPDATE images SET subset = \"{subset}\"\n",
    "        WHERE subset = \"pool\"\n",
    "        ORDER BY randy \n",
    "        LIMIT {n};'''\n",
    "    conn.execute(sql)\n",
    "    conn.commit()\n",
    "    conn.close()\n",
    "\n",
    "# # Adds 50 records to 'train000' subset    \n",
    "# pool2subset('train000', 50)\n",
    "# # Adds an additional 100 records 'train000' subset\n",
    "# pool2subset('train000', 100)"
   ]
  },
  {
   "cell_type": "code",
   "execution_count": 16,
   "metadata": {},
   "outputs": [],
   "source": [
    "def runquery(sql: str):\n",
    "    \"\"\" \n",
    "    This function facilitates ad hoc queries.\n",
    "    \"\"\"\n",
    "    conn = sqlite3.connect(DB_PATH)\n",
    "    results = conn.execute(sql).fetchall()\n",
    "    conn.close()\n",
    "    return results\n",
    "\n",
    "# runquery('select count(*) from images GROUP BY subset;')"
   ]
  },
  {
   "cell_type": "code",
   "execution_count": 17,
   "metadata": {},
   "outputs": [],
   "source": [
    "def create_dataset():\n",
    "    \"\"\"\n",
    "    \n",
    "    \"\"\"\n",
    "\n",
    "    # delete folders and files if they exist\n",
    "\n",
    "    dirpath = DATASET_DIR\n",
    "    if os.path.exists(dirpath) and os.path.isdir(dirpath):\n",
    "        shutil.rmtree(dirpath)\n",
    "\n",
    "    # create folder structure\n",
    "\n",
    "    for dir in ['train000', 'validate000']:\n",
    "        os.makedirs(f'{DATASET_DIR}/{dir}')\n",
    "\n",
    "    # save data.yaml in top level folder\n",
    "\n",
    "    yaml = f'''train: {DATASET_DIR}/train000\n",
    "    val: {DATASET_DIR}/validate000\n",
    "    nc: 4\n",
    "    names: [undamaged, damaged, dead, vcut]'''\n",
    "\n",
    "    with open(f'{DATASET_DIR}/data.yaml', 'w') as f:\n",
    "        f.write(yaml)\n",
    "        \n",
    "    # save classes.txt in train, val and test folders\n",
    "\n",
    "    classes = f'''undamaged\n",
    "    damaged\n",
    "    dead\n",
    "    vcut'''\n",
    "\n",
    "    with open(f'{DATASET_DIR}/classes.txt', 'w') as f:\n",
    "        f.write(classes)\n",
    "        \n",
    "    # Create symlinks to images\n",
    "    conn = sqlite3.connect(DB_PATH)\n",
    "    conn.row_factory = sqlite3.Row   # enables accessing values in results by field name\n",
    "\n",
    "    for row in conn.execute('SELECT imagefilename, subset FROM images WHERE subset != \"pool\" GROUP BY imagefilename, subset;'):\n",
    "        imagefilename = row['imagefilename']\n",
    "        subset = row['subset']\n",
    "        \n",
    "        # Create symlink to image (*.jpg)\n",
    "        src = f'{IMAGE_DIR_PATH}/{imagefilename}'\n",
    "        dst = f'{DATASET_DIR}/{subset}'\n",
    "        # ic(src, dst)\n",
    "        subprocess.run(['ln', '-s', src, dst])       \n",
    "    conn.close()"
   ]
  },
  {
   "cell_type": "code",
   "execution_count": 18,
   "metadata": {},
   "outputs": [],
   "source": [
    "def annotate(subset: str):\n",
    "    \"\"\"\n",
    "    Executes labelImg to annotate specified subset\n",
    "    \"\"\"\n",
    "    subprocess.run([\n",
    "        'python3', \n",
    "        '/home/aubrey/labelImg/labelImg.py',\n",
    "        f'/home/aubrey/Desktop/Guam07-training-set/datasets/active_learning/{subset}',\n",
    "        '/home/aubrey/Desktop/Guam07-training-set/datasets/active_learning/classes.txt'])\n",
    "    \n",
    "# annotate('validate000')"
   ]
  },
  {
   "cell_type": "code",
   "execution_count": 19,
   "metadata": {},
   "outputs": [
    {
     "name": "stderr",
     "output_type": "stream",
     "text": [
      "19:52:44 --> 3644326808.py:8 in initialize_db() at 19:52:44.921\n"
     ]
    },
    {
     "name": "stderr",
     "output_type": "stream",
     "text": [
      "19:52:45 --> runquery('SELECT subset, COUNT(*) FROM images GROUP BY subset;'): [('pool', 26263)]\n",
      "19:52:45 --> 3236093874.py:5 in pool2subset() at 19:52:45.175\n",
      "19:52:45 --> 3236093874.py:5 in pool2subset() at 19:52:45.198\n",
      "19:52:45 --> runquery('SELECT subset, COUNT(*) FROM images GROUP BY subset;'): [('pool', 26163), ('train000', 50), ('validate000', 50)]\n",
      "19:52:45 --> 'FINISHED'\n",
      "19:52:45 --> 'Run \"annotate(train000) to annotate train000 using labelImg,': 'Run \"annotate(train000) to annotate train000 using labelImg,'\n"
     ]
    },
    {
     "data": {
      "text/plain": [
       "'Run \"annotate(train000) to annotate train000 using labelImg,'"
      ]
     },
     "execution_count": 19,
     "metadata": {},
     "output_type": "execute_result"
    }
   ],
   "source": [
    "# MAIN\n",
    "\n",
    "random.seed(42) # set seed to ensure reproducible random number sequences\n",
    "\n",
    "# Create database\n",
    "initialize_db(IMAGE_DIR_PATH, DB_PATH)\n",
    "ic(runquery('SELECT subset, COUNT(*) FROM images GROUP BY subset;'))\n",
    "pool2subset('train000', 50)\n",
    "pool2subset('validate000', 50)\n",
    "ic(runquery('SELECT subset, COUNT(*) FROM images GROUP BY subset;'))\n",
    "\n",
    "# Create dataset\n",
    "\n",
    "create_dataset()\n",
    "\n",
    "# Annotate train000\n",
    "\n",
    "# annotate('train000')\n",
    "\n",
    "ic('FINISHED')\n",
    "ic('Run \"annotate(train000) to annotate train000 using labelImg,')"
   ]
  },
  {
   "cell_type": "code",
   "execution_count": 21,
   "metadata": {},
   "outputs": [
    {
     "name": "stdout",
     "output_type": "stream",
     "text": [
      "Cancel creation.\n"
     ]
    }
   ],
   "source": [
    "# annotate('train000')"
   ]
  }
 ],
 "metadata": {
  "kernelspec": {
   "display_name": "Python 3",
   "language": "python",
   "name": "python3"
  },
  "language_info": {
   "codemirror_mode": {
    "name": "ipython",
    "version": 3
   },
   "file_extension": ".py",
   "mimetype": "text/x-python",
   "name": "python",
   "nbconvert_exporter": "python",
   "pygments_lexer": "ipython3",
   "version": "3.10.12"
  }
 },
 "nbformat": 4,
 "nbformat_minor": 2
}
