{
 "cells": [
  {
   "cell_type": "markdown",
   "metadata": {},
   "source": [
    "# split_data.ipynb\n",
    "\n",
    "This workbook splits raw data in a folder containing images (\\*.jpg) and labels (\\*.txt) into the folder structure expected by YOLO (See https://docs.ultralytics.com/datasets/detect/#ultralytics-yolo-format).\n",
    "\n",
    "Note that images which do not have annotated objects are not included in the dataset. In other words, only images (\\*.jpg) with a corresponding labels file (\\*.txt) are included."
   ]
  },
  {
   "cell_type": "code",
   "execution_count": 2,
   "metadata": {},
   "outputs": [],
   "source": [
    "import os\n",
    "import glob\n",
    "import random\n",
    "import shutil"
   ]
  },
  {
   "cell_type": "code",
   "execution_count": 6,
   "metadata": {},
   "outputs": [],
   "source": [
    "RAWDATA = '../rawdata'  # folder containing images (*.jpg) and labels (*.txt)\n",
    "DATASET = '../datasets/Guam07v1' # dataset folder"
   ]
  },
  {
   "cell_type": "code",
   "execution_count": 7,
   "metadata": {},
   "outputs": [],
   "source": [
    "# create destinatio folders\n",
    "os.makedirs(f'{DATASET}/images/train')\n",
    "os.makedirs(f'{DATASET}/labels/train')\n",
    "os.makedirs(f'{DATASET}/images/valid')\n",
    "os.makedirs(f'{DATASET}/labels/valid')\n",
    "os.makedirs(f'{DATASET}/images/test')\n",
    "os.makedirs(f'{DATASET}/labels/test')"
   ]
  },
  {
   "cell_type": "code",
   "execution_count": 9,
   "metadata": {},
   "outputs": [
    {
     "name": "stdout",
     "output_type": "stream",
     "text": [
      "FINISHED\n"
     ]
    }
   ],
   "source": [
    "label_list = glob.glob(f'{RAWDATA}/*.txt')\n",
    "\n",
    "# determine the number of images for each set\n",
    "train_size = int(len(label_list) * 0.7)\n",
    "val_size = int(len(label_list) * 0.15)\n",
    "test_size = int(len(label_list) * 0.15)\n",
    "\n",
    "# Shuffle label list \n",
    "random.seed(42)\n",
    "random.shuffle(label_list)\n",
    "\n",
    "# Copy image files to destination folders\n",
    "for i, f in enumerate(label_list):\n",
    "    if i < train_size:\n",
    "        dest_folder = 'train'\n",
    "    elif i < train_size + val_size:\n",
    "        dest_folder = 'valid'\n",
    "    else:\n",
    "        dest_folder = 'test'\n",
    "    \n",
    "    label_source = label_list[i]    \n",
    "    image_source = label_source.replace('.txt', '.jpg')\n",
    "    label_dest = f'{DATASET}/labels/{dest_folder}/{os.path.basename(label_source)}'\n",
    "    image_dest = f'{DATASET}/images/{dest_folder}/{os.path.basename(image_source)}'\n",
    "\n",
    "    shutil.copy(label_source, label_dest)\n",
    "    shutil.copy(image_source, image_dest)\n",
    "    \n",
    "print('FINISHED')"
   ]
  }
 ],
 "metadata": {
  "kernelspec": {
   "display_name": "Python 3",
   "language": "python",
   "name": "python3"
  },
  "language_info": {
   "codemirror_mode": {
    "name": "ipython",
    "version": 3
   },
   "file_extension": ".py",
   "mimetype": "text/x-python",
   "name": "python",
   "nbconvert_exporter": "python",
   "pygments_lexer": "ipython3",
   "version": "3.10.12"
  }
 },
 "nbformat": 4,
 "nbformat_minor": 2
}
