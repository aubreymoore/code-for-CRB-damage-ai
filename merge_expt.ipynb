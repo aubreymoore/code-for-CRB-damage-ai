{
 "cells": [
  {
   "cell_type": "markdown",
   "metadata": {},
   "source": [
    "# merge_expt.ipynb\n",
    "\n",
    "The objective of this experiment is to train a model after merging object classes **[low, medium, high]** to **coconut_palm**.\n",
    "\n",
    "Steps:\n",
    "- copy a \"normal\" dataset\n",
    "- modify **YAML** file\n",
    "- modify **classes** file\n",
    "- edit all labels files (*.txt) to change classes\n",
    "- train on the new dataset\n",
    "\n",
    "The first 3 steps were done manually to save effort."
   ]
  },
  {
   "cell_type": "code",
   "execution_count": null,
   "metadata": {},
   "outputs": [],
   "source": []
  },
  {
   "cell_type": "code",
   "execution_count": null,
   "metadata": {},
   "outputs": [],
   "source": []
  }
 ],
 "metadata": {
  "language_info": {
   "name": "python"
  }
 },
 "nbformat": 4,
 "nbformat_minor": 2
}
