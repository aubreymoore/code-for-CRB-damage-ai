{
 "cells": [
  {
   "cell_type": "markdown",
   "id": "785da8b4",
   "metadata": {},
   "source": [
    "# train.ipynb"
   ]
  },
  {
   "cell_type": "code",
   "execution_count": 1,
   "id": "5f2f4483-81e9-4378-8e98-222ed56e0bad",
   "metadata": {
    "id": "5f2f4483-81e9-4378-8e98-222ed56e0bad"
   },
   "outputs": [],
   "source": [
    "# import zipfile\n",
    "# import requests\n",
    "# import cv2\n",
    "# import matplotlib.pyplot as plt\n",
    "# import glob \n",
    "# import random\n",
    "import os\n",
    "from ultralytics import YOLO"
   ]
  },
  {
   "cell_type": "markdown",
   "id": "cadd6aee",
   "metadata": {},
   "source": [
    "## Create folder for dataset"
   ]
  },
  {
   "cell_type": "code",
   "execution_count": 2,
   "id": "cd6facbc",
   "metadata": {},
   "outputs": [],
   "source": [
    "# os.mkdir('/home/aubrey/Desktop/Guam07-training-set/datasets/Guam07vx')"
   ]
  },
  {
   "cell_type": "markdown",
   "id": "c25ceb15-6d00-4afa-a349-4dd4fdcf5193",
   "metadata": {
    "id": "c25ceb15-6d00-4afa-a349-4dd4fdcf5193"
   },
   "source": [
    "## Create dataset YAML File"
   ]
  },
  {
   "cell_type": "code",
   "execution_count": 3,
   "id": "b0031a4a-b114-444f-bc9e-e5e30ac79e42",
   "metadata": {
    "colab": {
     "base_uri": "https://localhost:8080/"
    },
    "id": "b0031a4a-b114-444f-bc9e-e5e30ac79e42",
    "outputId": "c748a3cf-528e-49d5-e0b3-3ef9d1d78b4e"
   },
   "outputs": [
    {
     "name": "stdout",
     "output_type": "stream",
     "text": [
      "Overwriting /home/aubrey/Desktop/Guam07-training-set/datasets/Guam07vx/data.yaml\n"
     ]
    }
   ],
   "source": [
    "# %%writefile /home/aubrey/Desktop/Guam07-training-set/datasets/Guam07vx/data.yaml\n",
    "# path: /home/aubrey/Desktop/Guam07-training-set/datasets/Guam07vx\n",
    "# train: images/train\n",
    "# val: images/val\n",
    "# test: images/test\n",
    "# names:\n",
    "#   0: zero\n",
    "#   1: low\n",
    "#   2: medium\n",
    "#   3: high\n",
    "#   4: fatal\n",
    "#   5: vcut"
   ]
  },
  {
   "cell_type": "code",
   "execution_count": 4,
   "id": "5c5addca",
   "metadata": {},
   "outputs": [],
   "source": [
    "# # Create a new YOLO model from scratch\n",
    "# model = YOLO(\"yolov8n.yaml\")"
   ]
  },
  {
   "cell_type": "code",
   "execution_count": 2,
   "id": "3c6926a1",
   "metadata": {},
   "outputs": [],
   "source": [
    "# Load a pretrained YOLO model (recommended for training)\n",
    "model = YOLO(\"yolov8n.pt\")"
   ]
  },
  {
   "cell_type": "code",
   "execution_count": 4,
   "id": "ce8be726",
   "metadata": {},
   "outputs": [
    {
     "name": "stdout",
     "output_type": "stream",
     "text": [
      "New https://pypi.org/project/ultralytics/8.2.35 available 😃 Update with 'pip install -U ultralytics'\n",
      "Ultralytics YOLOv8.2.14 🚀 Python-3.10.12 torch-2.3.0+cu121 CUDA:0 (NVIDIA GeForce RTX 3080 Laptop GPU, 16117MiB)\n",
      "\u001b[34m\u001b[1mengine/trainer: \u001b[0mtask=detect, mode=train, model=yolov8n.pt, data=/home/aubrey/Desktop/Guam07-training-set/datasets/test/data.yaml, epochs=3, time=None, patience=100, batch=-1, imgsz=960, save=True, save_period=-1, cache=False, device=None, workers=8, project=None, name=imgsz9605, exist_ok=False, pretrained=True, optimizer=auto, verbose=True, seed=0, deterministic=True, single_cls=False, rect=False, cos_lr=False, close_mosaic=10, resume=False, amp=True, fraction=1.0, profile=False, freeze=None, multi_scale=False, overlap_mask=True, mask_ratio=4, dropout=0.0, val=True, split=val, save_json=False, save_hybrid=False, conf=None, iou=0.7, max_det=300, half=False, dnn=False, plots=True, source=None, vid_stride=1, stream_buffer=False, visualize=False, augment=False, agnostic_nms=False, classes=None, retina_masks=False, embed=None, show=False, save_frames=False, save_txt=False, save_conf=False, save_crop=False, show_labels=True, show_conf=True, show_boxes=True, line_width=None, format=torchscript, keras=False, optimize=False, int8=False, dynamic=False, simplify=False, opset=None, workspace=4, nms=False, lr0=0.01, lrf=0.01, momentum=0.937, weight_decay=0.0005, warmup_epochs=3.0, warmup_momentum=0.8, warmup_bias_lr=0.0, box=7.5, cls=0.5, dfl=1.5, pose=12.0, kobj=1.0, label_smoothing=0.0, nbs=64, hsv_h=0.015, hsv_s=0.7, hsv_v=0.4, degrees=0.0, translate=0.1, scale=0.5, shear=0.0, perspective=0.0, flipud=0.0, fliplr=0.5, bgr=0.0, mosaic=1.0, mixup=0.0, copy_paste=0.0, auto_augment=randaugment, erasing=0.4, crop_fraction=1.0, cfg=None, tracker=botsort.yaml, save_dir=runs/detect/imgsz9605\n",
      "\n",
      "                   from  n    params  module                                       arguments                     \n",
      "  0                  -1  1       464  ultralytics.nn.modules.conv.Conv             [3, 16, 3, 2]                 \n",
      "  1                  -1  1      4672  ultralytics.nn.modules.conv.Conv             [16, 32, 3, 2]                \n",
      "  2                  -1  1      7360  ultralytics.nn.modules.block.C2f             [32, 32, 1, True]             \n",
      "  3                  -1  1     18560  ultralytics.nn.modules.conv.Conv             [32, 64, 3, 2]                \n",
      "  4                  -1  2     49664  ultralytics.nn.modules.block.C2f             [64, 64, 2, True]             \n",
      "  5                  -1  1     73984  ultralytics.nn.modules.conv.Conv             [64, 128, 3, 2]               \n",
      "  6                  -1  2    197632  ultralytics.nn.modules.block.C2f             [128, 128, 2, True]           \n",
      "  7                  -1  1    295424  ultralytics.nn.modules.conv.Conv             [128, 256, 3, 2]              \n",
      "  8                  -1  1    460288  ultralytics.nn.modules.block.C2f             [256, 256, 1, True]           \n",
      "  9                  -1  1    164608  ultralytics.nn.modules.block.SPPF            [256, 256, 5]                 \n",
      " 10                  -1  1         0  torch.nn.modules.upsampling.Upsample         [None, 2, 'nearest']          \n",
      " 11             [-1, 6]  1         0  ultralytics.nn.modules.conv.Concat           [1]                           \n",
      " 12                  -1  1    148224  ultralytics.nn.modules.block.C2f             [384, 128, 1]                 \n",
      " 13                  -1  1         0  torch.nn.modules.upsampling.Upsample         [None, 2, 'nearest']          \n",
      " 14             [-1, 4]  1         0  ultralytics.nn.modules.conv.Concat           [1]                           \n",
      " 15                  -1  1     37248  ultralytics.nn.modules.block.C2f             [192, 64, 1]                  \n",
      " 16                  -1  1     36992  ultralytics.nn.modules.conv.Conv             [64, 64, 3, 2]                \n",
      " 17            [-1, 12]  1         0  ultralytics.nn.modules.conv.Concat           [1]                           \n",
      " 18                  -1  1    123648  ultralytics.nn.modules.block.C2f             [192, 128, 1]                 \n",
      " 19                  -1  1    147712  ultralytics.nn.modules.conv.Conv             [128, 128, 3, 2]              \n",
      " 20             [-1, 9]  1         0  ultralytics.nn.modules.conv.Concat           [1]                           \n",
      " 21                  -1  1    493056  ultralytics.nn.modules.block.C2f             [384, 256, 1]                 \n",
      " 22        [15, 18, 21]  1    752482  ultralytics.nn.modules.head.Detect           [6, [64, 128, 256]]           \n",
      "Model summary: 225 layers, 3012018 parameters, 3012002 gradients, 8.2 GFLOPs\n",
      "\n",
      "Transferred 355/355 items from pretrained weights\n",
      "WARNING ⚠️ ClearML installed but not initialized correctly, not logging this run. It seems ClearML is not configured on this machine!\n",
      "To get started with ClearML, setup your own 'clearml-server' or create a free account at https://app.clear.ml\n",
      "Setup instructions can be found here: https://clear.ml/docs\n",
      "\u001b[34m\u001b[1mTensorBoard: \u001b[0mStart with 'tensorboard --logdir runs/detect/imgsz9605', view at http://localhost:6006/\n",
      "Freezing layer 'model.22.dfl.conv.weight'\n",
      "\u001b[34m\u001b[1mAMP: \u001b[0mrunning Automatic Mixed Precision (AMP) checks with YOLOv8n...\n",
      "\u001b[34m\u001b[1mAMP: \u001b[0mchecks passed ✅\n",
      "\u001b[34m\u001b[1mAutoBatch: \u001b[0mComputing optimal batch size for imgsz=960\n",
      "\u001b[34m\u001b[1mAutoBatch: \u001b[0mCUDA:0 (NVIDIA GeForce RTX 3080 Laptop GPU) 15.74G total, 0.55G reserved, 0.51G allocated, 14.67G free\n",
      "      Params      GFLOPs  GPU_mem (GB)  forward (ms) backward (ms)                   input                  output\n",
      "     3012018       18.45         0.820         46.32         54.76        (1, 3, 960, 960)                    list\n",
      "     3012018        36.9         1.093         105.8         124.2        (2, 3, 960, 960)                    list\n",
      "     3012018        73.8         1.632         232.7         255.8        (4, 3, 960, 960)                    list\n",
      "     3012018       147.6         2.821         485.5         530.9        (8, 3, 960, 960)                    list\n",
      "     3012018       295.2         5.048         981.4          1053       (16, 3, 960, 960)                    list\n",
      "\u001b[34m\u001b[1mAutoBatch: \u001b[0mUsing batch-size 29 for CUDA:0 9.80G/15.74G (62%) ✅\n"
     ]
    },
    {
     "name": "stderr",
     "output_type": "stream",
     "text": [
      "\u001b[34m\u001b[1mtrain: \u001b[0mScanning /home/aubrey/Desktop/Guam07-training-set/datasets/test/train... 100 images, 29 backgrounds, 0 corrupt: 100%|██████████| 103/103 [00:00<00:00, 2151.88it/s]"
     ]
    },
    {
     "name": "stdout",
     "output_type": "stream",
     "text": [
      "\u001b[34m\u001b[1mtrain: \u001b[0mNew cache created: /home/aubrey/Desktop/Guam07-training-set/datasets/test/train.cache\n"
     ]
    },
    {
     "name": "stderr",
     "output_type": "stream",
     "text": [
      "\n",
      "\u001b[34m\u001b[1mval: \u001b[0mScanning /home/aubrey/Desktop/Guam07-training-set/datasets/test/val.cache... 100 images, 16 backgrounds, 0 corrupt: 100%|██████████| 100/100 [00:00<?, ?it/s]\n"
     ]
    },
    {
     "name": "stdout",
     "output_type": "stream",
     "text": [
      "Plotting labels to runs/detect/imgsz9605/labels.jpg... \n",
      "\u001b[34m\u001b[1moptimizer:\u001b[0m 'optimizer=auto' found, ignoring 'lr0=0.01' and 'momentum=0.937' and determining best 'optimizer', 'lr0' and 'momentum' automatically... \n",
      "\u001b[34m\u001b[1moptimizer:\u001b[0m AdamW(lr=0.001, momentum=0.9) with parameter groups 57 weight(decay=0.0), 64 weight(decay=0.000453125), 63 bias(decay=0.0)\n",
      "\u001b[34m\u001b[1mTensorBoard: \u001b[0mmodel graph visualization added ✅\n",
      "Image sizes 960 train, 960 val\n",
      "Using 8 dataloader workers\n",
      "Logging results to \u001b[1mruns/detect/imgsz9605\u001b[0m\n",
      "Starting training for 3 epochs...\n",
      "\n",
      "      Epoch    GPU_mem   box_loss   cls_loss   dfl_loss  Instances       Size\n"
     ]
    },
    {
     "name": "stderr",
     "output_type": "stream",
     "text": [
      "        1/3      9.09G      1.913      5.061      1.753         44        960: 100%|██████████| 4/4 [00:18<00:00,  4.60s/it]\n",
      "                 Class     Images  Instances      Box(P          R      mAP50  mAP50-95): 100%|██████████| 2/2 [00:03<00:00,  1.97s/it]"
     ]
    },
    {
     "name": "stdout",
     "output_type": "stream",
     "text": [
      "                   all        100        191     0.0031      0.232    0.00691    0.00263\n"
     ]
    },
    {
     "name": "stderr",
     "output_type": "stream",
     "text": [
      "\n"
     ]
    },
    {
     "name": "stdout",
     "output_type": "stream",
     "text": [
      "\n",
      "      Epoch    GPU_mem   box_loss   cls_loss   dfl_loss  Instances       Size\n"
     ]
    },
    {
     "name": "stderr",
     "output_type": "stream",
     "text": [
      "        2/3      9.12G       1.83      5.146      1.707         57        960: 100%|██████████| 4/4 [00:18<00:00,  4.58s/it]\n",
      "                 Class     Images  Instances      Box(P          R      mAP50  mAP50-95): 100%|██████████| 2/2 [00:03<00:00,  1.97s/it]"
     ]
    },
    {
     "name": "stdout",
     "output_type": "stream",
     "text": [
      "                   all        100        191    0.00339       0.26     0.0117    0.00475\n"
     ]
    },
    {
     "name": "stderr",
     "output_type": "stream",
     "text": [
      "\n"
     ]
    },
    {
     "name": "stdout",
     "output_type": "stream",
     "text": [
      "\n",
      "      Epoch    GPU_mem   box_loss   cls_loss   dfl_loss  Instances       Size\n"
     ]
    },
    {
     "name": "stderr",
     "output_type": "stream",
     "text": [
      "        3/3      9.18G      1.757      5.099      1.621         44        960: 100%|██████████| 4/4 [00:18<00:00,  4.59s/it]\n",
      "                 Class     Images  Instances      Box(P          R      mAP50  mAP50-95): 100%|██████████| 2/2 [00:03<00:00,  1.98s/it]"
     ]
    },
    {
     "name": "stdout",
     "output_type": "stream",
     "text": [
      "                   all        100        191    0.00438      0.294     0.0184    0.00796\n"
     ]
    },
    {
     "name": "stderr",
     "output_type": "stream",
     "text": [
      "\n"
     ]
    },
    {
     "name": "stdout",
     "output_type": "stream",
     "text": [
      "\n",
      "3 epochs completed in 0.020 hours.\n",
      "Optimizer stripped from runs/detect/imgsz9605/weights/last.pt, 6.3MB\n",
      "Optimizer stripped from runs/detect/imgsz9605/weights/best.pt, 6.3MB\n",
      "\n",
      "Validating runs/detect/imgsz9605/weights/best.pt...\n",
      "Ultralytics YOLOv8.2.14 🚀 Python-3.10.12 torch-2.3.0+cu121 CUDA:0 (NVIDIA GeForce RTX 3080 Laptop GPU, 16117MiB)\n",
      "Model summary (fused): 168 layers, 3006818 parameters, 0 gradients, 8.1 GFLOPs\n"
     ]
    },
    {
     "name": "stderr",
     "output_type": "stream",
     "text": [
      "                 Class     Images  Instances      Box(P          R      mAP50  mAP50-95): 100%|██████████| 2/2 [00:03<00:00,  1.83s/it]\n"
     ]
    },
    {
     "name": "stdout",
     "output_type": "stream",
     "text": [
      "                   all        100        191    0.00438      0.294     0.0181    0.00791\n",
      "                  zero        100        117     0.0118      0.265     0.0124     0.0065\n",
      "                   low        100         34    0.00138      0.618     0.0418     0.0172\n",
      "                  vcut        100         40          0          0          0          0\n",
      "Speed: 3.1ms preprocess, 27.6ms inference, 0.0ms loss, 3.6ms postprocess per image\n",
      "Results saved to \u001b[1mruns/detect/imgsz9605\u001b[0m\n"
     ]
    }
   ],
   "source": [
    "# Train the model using the 'data.yaml' dataset for 3 epochs\n",
    "results = model.train(\n",
    "    data=\"/home/aubrey/Desktop/Guam07-training-set/datasets/test/data.yaml\", \n",
    "    epochs=3,\n",
    "    imgsz=960,\n",
    "    batch=-1,    # auto mode; 60% of GPU memory  \n",
    "    name='imgsz960',\n",
    "    )"
   ]
  },
  {
   "cell_type": "code",
   "execution_count": 7,
   "id": "510d226f",
   "metadata": {},
   "outputs": [],
   "source": [
    "# # Evaluate the model's performance on the validation set\n",
    "# model = YOLO('/home/aubrey/Desktop/Guam07-training-set/code/runs/detect/imgsz9603/weights/best.pt')\n",
    "# results = model.val(\n",
    "#     data=\"/home/aubrey/Desktop/Guam07-training-set/datasets/Guam07vx/data.yaml\", \n",
    "#     imgsz=960,\n",
    "# )"
   ]
  },
  {
   "cell_type": "code",
   "execution_count": 2,
   "id": "2adb1372",
   "metadata": {},
   "outputs": [
    {
     "name": "stdout",
     "output_type": "stream",
     "text": [
      "\n",
      "image 1/1 /home/aubrey/imgtest/IMG_20221115_115053.jpg: 544x960 5 lows, 4 vcuts, 94.0ms\n",
      "Speed: 6.2ms preprocess, 94.0ms inference, 712.2ms postprocess per image at shape (1, 3, 544, 960)\n",
      "Results saved to \u001b[1mruns/detect/predict13\u001b[0m\n",
      "1 label saved to runs/detect/predict13/labels\n",
      "FINISHED\n"
     ]
    }
   ],
   "source": [
    "# Perform object detection on an image using the model\n",
    "model = YOLO('/home/aubrey/Desktop/Guam07-training-set/code/runs/detect/imgsz9603/weights/best.pt')\n",
    "results = model(\n",
    "    source='/home/aubrey/imgtest/IMG_20221115_115053.jpg',\n",
    "    imgsz=960,\n",
    "    save_conf=True,\n",
    "    save=True,\n",
    "    save_txt=True,\n",
    "    agnostic_nms=True,\n",
    "    iou=0.5,\n",
    "    )\n",
    "print('FINISHED')"
   ]
  },
  {
   "cell_type": "code",
   "execution_count": 19,
   "id": "1da82423",
   "metadata": {},
   "outputs": [
    {
     "data": {
      "text/plain": [
       "ultralytics.engine.results.Boxes object with attributes:\n",
       "\n",
       "cls: tensor([1.], device='cuda:0')\n",
       "conf: tensor([0.8387], device='cuda:0')\n",
       "data: tensor([[5.7463e+02, 1.9459e+02, 1.2120e+03, 1.0800e+03, 8.3868e-01, 1.0000e+00]], device='cuda:0')\n",
       "id: None\n",
       "is_track: False\n",
       "orig_shape: (1080, 1920)\n",
       "shape: torch.Size([1, 6])\n",
       "xywh: tensor([[893.2990, 637.2947, 637.3439, 885.4106]], device='cuda:0')\n",
       "xywhn: tensor([[0.4653, 0.5901, 0.3319, 0.8198]], device='cuda:0')\n",
       "xyxy: tensor([[ 574.6271,  194.5894, 1211.9709, 1080.0000]], device='cuda:0')\n",
       "xyxyn: tensor([[0.2993, 0.1802, 0.6312, 1.0000]], device='cuda:0')"
      ]
     },
     "execution_count": 19,
     "metadata": {},
     "output_type": "execute_result"
    }
   ],
   "source": [
    "boxes = results[0].boxes\n",
    "box = boxes[0]\n",
    "box"
   ]
  },
  {
   "cell_type": "code",
   "execution_count": 16,
   "id": "37c3c7e7",
   "metadata": {},
   "outputs": [
    {
     "name": "stdout",
     "output_type": "stream",
     "text": [
      "Ultralytics YOLOv8.2.14 🚀 Python-3.10.12 torch-2.3.0+cu121 CUDA:0 (NVIDIA GeForce RTX 3080 Laptop GPU, 16117MiB)\n",
      "Model summary (fused): 168 layers, 3006818 parameters, 0 gradients, 8.1 GFLOPs\n",
      "\n",
      "image 1/1 /home/aubrey/imgtest/IMG_20221115_115053.jpg: 544x960 5 lows, 4 vcuts, 94.6ms\n",
      "Speed: 4.1ms preprocess, 94.6ms inference, 771.0ms postprocess per image at shape (1, 3, 544, 960)\n",
      "Results saved to \u001b[1mruns/detect/predict12\u001b[0m\n",
      "1 label saved to runs/detect/predict12/labels\n",
      "💡 Learn more at https://docs.ultralytics.com/modes/predict\n"
     ]
    },
    {
     "data": {
      "text/plain": [
       "CompletedProcess(args=['yolo', 'detect', 'predict', 'model=/home/aubrey/Desktop/Guam07-training-set/code/runs/detect/imgsz9603/weights/best.pt', 'source=/home/aubrey/imgtest/IMG_20221115_115053.jpg', 'imgsz=960', 'save_conf=True', 'save=True', 'save_txt=True', 'agnostic_nms=True', 'iou=0.5'], returncode=0)"
      ]
     },
     "execution_count": 16,
     "metadata": {},
     "output_type": "execute_result"
    }
   ],
   "source": [
    "# # vs-code froze whenver \"show=True\" was used as an argument for object detection (prediction).\n",
    "# # This cell used the CLI as an alternative to see if this is an effective work-around.\n",
    "\n",
    "# import subprocess\n",
    "\n",
    "# subprocess.run([\n",
    "#     'yolo',\n",
    "#     'detect',\n",
    "#     'predict',\n",
    "#     'model=/home/aubrey/Desktop/Guam07-training-set/code/runs/detect/imgsz9603/weights/best.pt',\n",
    "#     'source=/home/aubrey/imgtest/IMG_20221115_115053.jpg',\n",
    "#     'imgsz=960',\n",
    "#     'save_conf=True',\n",
    "#     'save=True',\n",
    "#     'save_txt=True',\n",
    "#     'agnostic_nms=True',\n",
    "#     'iou=0.5',\n",
    "#     # 'show=True',\n",
    "#     ])"
   ]
  },
  {
   "cell_type": "code",
   "execution_count": 10,
   "id": "4093bf70",
   "metadata": {},
   "outputs": [],
   "source": [
    "# # Export the model to ONNX format\n",
    "# success = model.export(format=\"onnx\")"
   ]
  },
  {
   "cell_type": "markdown",
   "id": "9e86ee50-a8f0-4500-a001-42fb3f18439d",
   "metadata": {
    "id": "9e86ee50-a8f0-4500-a001-42fb3f18439d"
   },
   "source": [
    "## YOLOv8 Nano Training"
   ]
  },
  {
   "cell_type": "code",
   "execution_count": 11,
   "id": "81a6b664-8e6f-4e31-ba6b-304164c40e1a",
   "metadata": {
    "colab": {
     "base_uri": "https://localhost:8080/"
    },
    "id": "81a6b664-8e6f-4e31-ba6b-304164c40e1a",
    "outputId": "ec52898e-3ae0-4889-97d2-0ba36223ecaf",
    "scrolled": true,
    "tags": []
   },
   "outputs": [],
   "source": [
    "# # Sample training for 5 epoch.\n",
    "# EPOCHS = 5\n",
    "# !yolo task=detect \\\n",
    "# mode=train \\\n",
    "# model=yolov8n.pt \\\n",
    "# imgsz=1280 \\\n",
    "# data=/home/aubrey/Desktop/Guam07-training-set/datasets/Guam07v1/data.yaml \\\n",
    "# epochs={EPOCHS} \\\n",
    "# batch=8 \\\n",
    "# name=Guam07v1_yolov8n"
   ]
  },
  {
   "cell_type": "markdown",
   "id": "5fcdabf1-0ebe-4f42-a6a5-7ff8e4df4875",
   "metadata": {
    "id": "5fcdabf1-0ebe-4f42-a6a5-7ff8e4df4875"
   },
   "source": [
    "## Evaluation on Validation Images"
   ]
  },
  {
   "cell_type": "code",
   "execution_count": 12,
   "id": "da37c627-b4f0-442f-9e60-7035f486c302",
   "metadata": {
    "id": "da37c627-b4f0-442f-9e60-7035f486c302",
    "scrolled": true,
    "tags": []
   },
   "outputs": [],
   "source": [
    "# !yolo task=detect \\\n",
    "# mode=val \n",
    "# model=runs/detect/yolov8n_v8_50e7/weights/best.pt \n",
    "# name=yolov8n_eval \n",
    "# data=pothole_v8.yaml"
   ]
  },
  {
   "cell_type": "markdown",
   "id": "03071a7c-6c2b-45e0-8a9c-f37384fab77e",
   "metadata": {
    "id": "03071a7c-6c2b-45e0-8a9c-f37384fab77e"
   },
   "source": [
    "## Inference on Validation Images"
   ]
  },
  {
   "cell_type": "code",
   "execution_count": 13,
   "id": "b2e2073a-d46e-47f4-8b82-de3d424ef633",
   "metadata": {
    "id": "b2e2073a-d46e-47f4-8b82-de3d424ef633",
    "scrolled": true,
    "tags": []
   },
   "outputs": [],
   "source": [
    "# !yolo task=detect \\\n",
    "# mode=predict \\\n",
    "# model=runs/detect/yolov8n_v8_50e7/weights/best.pt \\\n",
    "# source=datasets/pothole_dataset_v8/valid/images \\\n",
    "# imgsz=1280 \\\n",
    "# name=yolov8n_v8_50e7_infer1280 \\\n",
    "# hide_labels=True"
   ]
  }
 ],
 "metadata": {
  "accelerator": "GPU",
  "colab": {
   "provenance": []
  },
  "gpuClass": "standard",
  "kernelspec": {
   "display_name": "Python 3",
   "language": "python",
   "name": "python3"
  },
  "language_info": {
   "codemirror_mode": {
    "name": "ipython",
    "version": 3
   },
   "file_extension": ".py",
   "mimetype": "text/x-python",
   "name": "python",
   "nbconvert_exporter": "python",
   "pygments_lexer": "ipython3",
   "version": "3.10.12"
  }
 },
 "nbformat": 4,
 "nbformat_minor": 5
}
