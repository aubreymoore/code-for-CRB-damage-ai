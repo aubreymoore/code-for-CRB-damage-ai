{
 "cells": [
  {
   "cell_type": "markdown",
   "id": "afded941",
   "metadata": {
    "papermill": {
     "duration": 0.001422,
     "end_time": "2024-06-28T03:11:28.416235",
     "exception": false,
     "start_time": "2024-06-28T03:11:28.414813",
     "status": "completed"
    },
    "tags": []
   },
   "source": [
    "# build_new_dataset.ipynb"
   ]
  },
  {
   "cell_type": "code",
   "execution_count": 1,
   "id": "3535fbdd",
   "metadata": {
    "execution": {
     "iopub.execute_input": "2024-06-28T03:11:28.431043Z",
     "iopub.status.busy": "2024-06-28T03:11:28.430763Z",
     "iopub.status.idle": "2024-06-28T03:11:28.432844Z",
     "shell.execute_reply": "2024-06-28T03:11:28.432640Z"
    },
    "papermill": {
     "duration": 0.00781,
     "end_time": "2024-06-28T03:11:28.432945",
     "exception": false,
     "start_time": "2024-06-28T03:11:28.425135",
     "status": "completed"
    },
    "tags": [
     "parameters"
    ]
   },
   "outputs": [],
   "source": [
    "NEW_DATASET_DIR = '/home/aubrey/Desktop/Guam07-training-set/datasets/rawdatasubset'\n",
    "IMAGE_DIR_PATH = '/home/aubrey/Desktop/Guam07-training-set/rawdatasubset'\n",
    "OBJECTS_DB_FILE_PATH = '/home/aubrey/Desktop/Guam07-training-set/code/rawdatasubset.sqlite3'"
   ]
  },
  {
   "cell_type": "code",
   "execution_count": 2,
   "id": "85d68c68",
   "metadata": {
    "execution": {
     "iopub.execute_input": "2024-06-28T03:11:28.437343Z",
     "iopub.status.busy": "2024-06-28T03:11:28.437074Z",
     "iopub.status.idle": "2024-06-28T03:11:28.438334Z",
     "shell.execute_reply": "2024-06-28T03:11:28.438116Z"
    },
    "papermill": {
     "duration": 0.004344,
     "end_time": "2024-06-28T03:11:28.438401",
     "exception": false,
     "start_time": "2024-06-28T03:11:28.434057",
     "status": "completed"
    },
    "tags": [
     "injected-parameters"
    ]
   },
   "outputs": [],
   "source": [
    "# Parameters\n",
    "MODEL_FILE_PATH = \"/home/aubrey/Desktop/Guam07-training-set/code/runs/detect/imgsz9603/weights/best.pt\"\n",
    "NEW_DATASET_DIR = \"/home/aubrey/Desktop/Guam07-training-set/datasets/rawdatasubset\"\n",
    "IMAGE_DIR_PATH = \"/home/aubrey/Desktop/Guam07-training-set/rawdatasubset\"\n",
    "OBJECTS_DB_FILE_PATH = \"/home/aubrey/Desktop/Guam07-training-set/code/rawdatasubset.sqlite3\"\n"
   ]
  },
  {
   "cell_type": "code",
   "execution_count": 3,
   "id": "bbbe577e",
   "metadata": {
    "execution": {
     "iopub.execute_input": "2024-06-28T03:11:28.442146Z",
     "iopub.status.busy": "2024-06-28T03:11:28.441911Z",
     "iopub.status.idle": "2024-06-28T03:11:28.443137Z",
     "shell.execute_reply": "2024-06-28T03:11:28.442945Z"
    },
    "papermill": {
     "duration": 0.003735,
     "end_time": "2024-06-28T03:11:28.443202",
     "exception": false,
     "start_time": "2024-06-28T03:11:28.439467",
     "status": "completed"
    },
    "tags": []
   },
   "outputs": [],
   "source": [
    "import os\n",
    "import shutil\n",
    "import subprocess\n",
    "import sqlite3"
   ]
  },
  {
   "cell_type": "markdown",
   "id": "fb73335e",
   "metadata": {
    "papermill": {
     "duration": 0.000912,
     "end_time": "2024-06-28T03:11:28.445082",
     "exception": false,
     "start_time": "2024-06-28T03:11:28.444170",
     "status": "completed"
    },
    "tags": []
   },
   "source": [
    "## Create data structure for the new dataset"
   ]
  },
  {
   "cell_type": "code",
   "execution_count": 4,
   "id": "651427d7",
   "metadata": {
    "execution": {
     "iopub.execute_input": "2024-06-28T03:11:28.449634Z",
     "iopub.status.busy": "2024-06-28T03:11:28.449405Z",
     "iopub.status.idle": "2024-06-28T03:11:28.452502Z",
     "shell.execute_reply": "2024-06-28T03:11:28.452299Z"
    },
    "papermill": {
     "duration": 0.006587,
     "end_time": "2024-06-28T03:11:28.452569",
     "exception": false,
     "start_time": "2024-06-28T03:11:28.445982",
     "status": "completed"
    },
    "tags": []
   },
   "outputs": [],
   "source": [
    "# deletes folders and files if they exist\n",
    "dirpath = NEW_DATASET_DIR\n",
    "if os.path.exists(dirpath) and os.path.isdir(dirpath):\n",
    "    shutil.rmtree(dirpath)\n",
    "\n",
    "# create folder structure\n",
    "for dir in ['train', 'val', 'test']:\n",
    "    os.makedirs(f'{NEW_DATASET_DIR}/{dir}')\n",
    "\n",
    "# save data.yaml in top level folder\n",
    "yaml = f'''{NEW_DATASET_DIR}\n",
    "train: train\n",
    "val: val\n",
    "test: test\n",
    "names:\n",
    "  0: zero\n",
    "  1: low\n",
    "  2: medium\n",
    "  3: high \n",
    "  4: fatal\n",
    "  5: vcut'''\n",
    "\n",
    "with open(f'{NEW_DATASET_DIR}/data.yaml', 'w') as f:\n",
    "    f.write(yaml)\n",
    "    \n",
    "# save classes.txt in train, val and test folders\n",
    "classes = f'''zero\n",
    "low\n",
    "medium\n",
    "high\n",
    "fatal\n",
    "vcut'''\n",
    "\n",
    "for dir in ['train', 'val', 'test']:\n",
    "    with open(f'{NEW_DATASET_DIR}/{dir}/classes.txt', 'w') as f:\n",
    "        f.write(classes)"
   ]
  },
  {
   "cell_type": "markdown",
   "id": "98524fcf",
   "metadata": {
    "papermill": {
     "duration": 0.001029,
     "end_time": "2024-06-28T03:11:28.454659",
     "exception": false,
     "start_time": "2024-06-28T03:11:28.453630",
     "status": "completed"
    },
    "tags": []
   },
   "source": [
    "## Populate folders with symlinks to oriiginal images (\\*.jpg) and labels files (\\*.txt)"
   ]
  },
  {
   "cell_type": "code",
   "execution_count": 5,
   "id": "8b7fa4b1",
   "metadata": {
    "execution": {
     "iopub.execute_input": "2024-06-28T03:11:28.459782Z",
     "iopub.status.busy": "2024-06-28T03:11:28.459538Z",
     "iopub.status.idle": "2024-06-28T03:11:28.509292Z",
     "shell.execute_reply": "2024-06-28T03:11:28.508977Z"
    },
    "papermill": {
     "duration": 0.05375,
     "end_time": "2024-06-28T03:11:28.509375",
     "exception": false,
     "start_time": "2024-06-28T03:11:28.455625",
     "status": "completed"
    },
    "tags": []
   },
   "outputs": [
    {
     "name": "stdout",
     "output_type": "stream",
     "text": [
      "/home/aubrey/Desktop/Guam07-training-set/rawdatasubset/IMG_20221115_111715.jpg train\n",
      "/home/aubrey/Desktop/Guam07-training-set/rawdatasubset/IMG_20221115_111717.jpg train\n",
      "/home/aubrey/Desktop/Guam07-training-set/rawdatasubset/IMG_20221115_111718.jpg test\n",
      "/home/aubrey/Desktop/Guam07-training-set/rawdatasubset/IMG_20221115_111719.jpg train\n",
      "/home/aubrey/Desktop/Guam07-training-set/rawdatasubset/IMG_20221115_111720.jpg test\n",
      "/home/aubrey/Desktop/Guam07-training-set/rawdatasubset/IMG_20221115_111721.jpg train\n",
      "/home/aubrey/Desktop/Guam07-training-set/rawdatasubset/IMG_20221115_111722.jpg train\n",
      "/home/aubrey/Desktop/Guam07-training-set/rawdatasubset/IMG_20221115_111723.jpg train\n",
      "/home/aubrey/Desktop/Guam07-training-set/rawdatasubset/IMG_20221115_111724.jpg train\n",
      "/home/aubrey/Desktop/Guam07-training-set/rawdatasubset/IMG_20221115_111725.jpg test\n",
      "/home/aubrey/Desktop/Guam07-training-set/rawdatasubset/IMG_20221115_111728.jpg train\n",
      "/home/aubrey/Desktop/Guam07-training-set/rawdatasubset/IMG_20221115_111729.jpg train\n",
      "/home/aubrey/Desktop/Guam07-training-set/rawdatasubset/IMG_20221115_111730.jpg train\n",
      "/home/aubrey/Desktop/Guam07-training-set/rawdatasubset/IMG_20221115_111731.jpg test\n",
      "/home/aubrey/Desktop/Guam07-training-set/rawdatasubset/IMG_20221115_111732.jpg train\n",
      "/home/aubrey/Desktop/Guam07-training-set/rawdatasubset/IMG_20221115_111733.jpg train\n",
      "/home/aubrey/Desktop/Guam07-training-set/rawdatasubset/IMG_20221115_111735.jpg test\n",
      "/home/aubrey/Desktop/Guam07-training-set/rawdatasubset/IMG_20221115_111736.jpg train\n",
      "/home/aubrey/Desktop/Guam07-training-set/rawdatasubset/IMG_20221115_111737.jpg train\n",
      "/home/aubrey/Desktop/Guam07-training-set/rawdatasubset/IMG_20221115_111740.jpg train\n",
      "/home/aubrey/Desktop/Guam07-training-set/rawdatasubset/IMG_20221115_111743.jpg train\n",
      "/home/aubrey/Desktop/Guam07-training-set/rawdatasubset/IMG_20221115_111744.jpg val\n",
      "/home/aubrey/Desktop/Guam07-training-set/rawdatasubset/IMG_20221115_111745.jpg train\n",
      "/home/aubrey/Desktop/Guam07-training-set/rawdatasubset/IMG_20221115_111746.jpg train\n",
      "/home/aubrey/Desktop/Guam07-training-set/rawdatasubset/IMG_20221115_111748.jpg train\n",
      "/home/aubrey/Desktop/Guam07-training-set/rawdatasubset/IMG_20221115_111749.jpg train\n",
      "/home/aubrey/Desktop/Guam07-training-set/rawdatasubset/IMG_20221115_111751.jpg train\n",
      "/home/aubrey/Desktop/Guam07-training-set/rawdatasubset/IMG_20221115_111752.jpg train\n",
      "/home/aubrey/Desktop/Guam07-training-set/rawdatasubset/IMG_20221115_111753.jpg train\n",
      "/home/aubrey/Desktop/Guam07-training-set/rawdatasubset/IMG_20221115_111754.jpg train\n",
      "/home/aubrey/Desktop/Guam07-training-set/rawdatasubset/IMG_20221115_111755.jpg test\n",
      "/home/aubrey/Desktop/Guam07-training-set/rawdatasubset/IMG_20221115_111756.jpg train\n",
      "/home/aubrey/Desktop/Guam07-training-set/rawdatasubset/IMG_20221115_111757.jpg test\n",
      "/home/aubrey/Desktop/Guam07-training-set/rawdatasubset/IMG_20221115_111758.jpg train\n",
      "/home/aubrey/Desktop/Guam07-training-set/rawdatasubset/IMG_20221115_111759.jpg train\n",
      "/home/aubrey/Desktop/Guam07-training-set/rawdatasubset/IMG_20221115_111800.jpg train\n",
      "/home/aubrey/Desktop/Guam07-training-set/rawdatasubset/IMG_20221115_111802.jpg train\n",
      "/home/aubrey/Desktop/Guam07-training-set/rawdatasubset/IMG_20221115_111808.jpg train\n",
      "/home/aubrey/Desktop/Guam07-training-set/rawdatasubset/IMG_20221115_111810.jpg train\n",
      "/home/aubrey/Desktop/Guam07-training-set/rawdatasubset/IMG_20221115_111812.jpg train\n",
      "/home/aubrey/Desktop/Guam07-training-set/rawdatasubset/IMG_20221115_111813.jpg train\n",
      "/home/aubrey/Desktop/Guam07-training-set/rawdatasubset/IMG_20221115_111814.jpg train\n",
      "/home/aubrey/Desktop/Guam07-training-set/rawdatasubset/IMG_20221115_111815.jpg train\n",
      "/home/aubrey/Desktop/Guam07-training-set/rawdatasubset/IMG_20221115_111816.jpg train\n",
      "/home/aubrey/Desktop/Guam07-training-set/rawdatasubset/IMG_20221115_111817.jpg train\n",
      "/home/aubrey/Desktop/Guam07-training-set/rawdatasubset/IMG_20221115_111818.jpg train\n",
      "/home/aubrey/Desktop/Guam07-training-set/rawdatasubset/IMG_20221115_111819.jpg train\n",
      "/home/aubrey/Desktop/Guam07-training-set/rawdatasubset/IMG_20221115_111824.jpg train\n",
      "/home/aubrey/Desktop/Guam07-training-set/rawdatasubset/IMG_20221115_111825.jpg train\n",
      "/home/aubrey/Desktop/Guam07-training-set/rawdatasubset/IMG_20221115_111826.jpg train\n",
      "/home/aubrey/Desktop/Guam07-training-set/rawdatasubset/IMG_20221115_111827.jpg train\n"
     ]
    }
   ],
   "source": [
    "conn = sqlite3.connect(OBJECTS_DB_FILE_PATH)\n",
    "conn.row_factory = sqlite3.Row   # enables accessing values in results by field name\n",
    "\n",
    "for row in conn.execute('SELECT imagepath, subset FROM detected_objects GROUP BY imagepath, subset;'):\n",
    "    imagepath = row['imagepath'] \n",
    "    subset = row['subset']\n",
    "    print(imagepath, subset) \n",
    "    \n",
    "    # Create symlink to image (<imagepath>.jpg)\n",
    "    src = imagepath\n",
    "    dst = f'{NEW_DATASET_DIR}/{subset}'\n",
    "    subprocess.run(['ln', '-s', src, dst])\n",
    "    \n",
    "    # Write labels file (<imagepath>.txt)\n",
    "    s = ''\n",
    "    for r in conn.execute(f'SELECT cls, x, y, w, h FROM detected_objects WHERE imagepath == \"{imagepath}\" ORDER BY x;'):\n",
    "        s += f\"{r['cls']} {r['x']:.6f} {r['y']:.6f} {r['w']:.6f} {r['h']:.6f}\\n\"\n",
    "    s = s[:-1]   # delete final newline char\n",
    "    filename = os.path.basename(imagepath).replace('.jpg', '.txt')\n",
    "    filepath = f'{NEW_DATASET_DIR}/{subset}/{filename}'\n",
    "    with open(filepath, 'w') as f:\n",
    "        f.write(s)\n",
    "    \n",
    "conn.close()"
   ]
  },
  {
   "cell_type": "markdown",
   "id": "7c77f2cb",
   "metadata": {
    "papermill": {
     "duration": 0.001094,
     "end_time": "2024-06-28T03:11:28.511767",
     "exception": false,
     "start_time": "2024-06-28T03:11:28.510673",
     "status": "completed"
    },
    "tags": []
   },
   "source": []
  }
 ],
 "metadata": {
  "kernelspec": {
   "display_name": "Python 3",
   "language": "python",
   "name": "python3"
  },
  "language_info": {
   "codemirror_mode": {
    "name": "ipython",
    "version": 3
   },
   "file_extension": ".py",
   "mimetype": "text/x-python",
   "name": "python",
   "nbconvert_exporter": "python",
   "pygments_lexer": "ipython3",
   "version": "3.10.12"
  },
  "papermill": {
   "default_parameters": {},
   "duration": 0.967377,
   "end_time": "2024-06-28T03:11:28.627011",
   "environment_variables": {},
   "exception": null,
   "input_path": "build_new_dataset.ipynb",
   "output_path": "outputnb/build_new_dataset.ipynb",
   "parameters": {
    "IMAGE_DIR_PATH": "/home/aubrey/Desktop/Guam07-training-set/rawdatasubset",
    "MODEL_FILE_PATH": "/home/aubrey/Desktop/Guam07-training-set/code/runs/detect/imgsz9603/weights/best.pt",
    "NEW_DATASET_DIR": "/home/aubrey/Desktop/Guam07-training-set/datasets/rawdatasubset",
    "OBJECTS_DB_FILE_PATH": "/home/aubrey/Desktop/Guam07-training-set/code/rawdatasubset.sqlite3"
   },
   "start_time": "2024-06-28T03:11:27.659634",
   "version": "2.6.0"
  }
 },
 "nbformat": 4,
 "nbformat_minor": 5
}