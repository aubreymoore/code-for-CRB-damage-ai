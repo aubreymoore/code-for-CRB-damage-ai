{
 "cells": [
  {
   "cell_type": "code",
   "execution_count": 3,
   "metadata": {},
   "outputs": [],
   "source": [
    "INPUT = '/home/aubrey/Desktop/Guam07-training-set/datasets/Guam07v2'\n",
    "OUTPUT = '/home/aubrey/Desktop/Guam07-training-set/datasets/Guam07v2/ls-tasks.json'\n",
    "IMAGES = '/home/aubrey/Desktop/Guam07-training-set/datasets/Guam07v2/images'"
   ]
  },
  {
   "cell_type": "code",
   "execution_count": 4,
   "metadata": {},
   "outputs": [],
   "source": [
    "import os"
   ]
  },
  {
   "cell_type": "code",
   "execution_count": 5,
   "metadata": {},
   "outputs": [
    {
     "name": "stdout",
     "output_type": "stream",
     "text": [
      "Defaulting to user installation because normal site-packages is not writeable\n",
      "Requirement already satisfied: label-studio-converter in /home/aubrey/.local/lib/python3.10/site-packages (0.0.58)\n",
      "Requirement already satisfied: requests<3,>=2.22.0 in /usr/lib/python3/dist-packages (from label-studio-converter) (2.25.1)\n",
      "Requirement already satisfied: pandas>=0.24.0 in /usr/lib/python3/dist-packages (from label-studio-converter) (1.3.5)\n",
      "Requirement already satisfied: ujson in /home/aubrey/.local/lib/python3.10/site-packages (from label-studio-converter) (5.10.0)\n",
      "Requirement already satisfied: nltk==3.6.7 in /home/aubrey/.local/lib/python3.10/site-packages (from label-studio-converter) (3.6.7)\n",
      "Requirement already satisfied: ijson~=3.2.0.post0 in /home/aubrey/.local/lib/python3.10/site-packages (from label-studio-converter) (3.2.3)\n",
      "Requirement already satisfied: Pillow>=10.0.1 in /home/aubrey/.local/lib/python3.10/site-packages (from label-studio-converter) (10.3.0)\n",
      "Requirement already satisfied: label-studio-tools>=0.0.3 in /home/aubrey/.local/lib/python3.10/site-packages (from label-studio-converter) (0.0.3)\n",
      "Requirement already satisfied: joblib in /usr/lib/python3/dist-packages (from nltk==3.6.7->label-studio-converter) (0.17.0)\n",
      "Requirement already satisfied: click in /usr/lib/python3/dist-packages (from nltk==3.6.7->label-studio-converter) (8.0.3)\n",
      "Requirement already satisfied: regex>=2021.8.3 in /home/aubrey/.local/lib/python3.10/site-packages (from nltk==3.6.7->label-studio-converter) (2024.5.15)\n",
      "Requirement already satisfied: tqdm in /home/aubrey/.local/lib/python3.10/site-packages (from nltk==3.6.7->label-studio-converter) (4.66.1)\n",
      "Requirement already satisfied: lxml>=4.2.5 in /usr/lib/python3/dist-packages (from label-studio-tools>=0.0.3->label-studio-converter) (4.8.0)\n",
      "Requirement already satisfied: appdirs>=1.4.3 in /usr/lib/python3/dist-packages (from label-studio-tools>=0.0.3->label-studio-converter) (1.4.4)\n"
     ]
    }
   ],
   "source": [
    "!pip install label-studio-converter"
   ]
  },
  {
   "cell_type": "code",
   "execution_count": 6,
   "metadata": {},
   "outputs": [
    {
     "name": "stderr",
     "output_type": "stream",
     "text": [
      "/usr/lib/python3/dist-packages/scipy/__init__.py:146: UserWarning: A NumPy version >=1.17.3 and <1.25.0 is required for this version of SciPy (detected version 1.26.3\n",
      "  warnings.warn(f\"A NumPy version >={np_minversion} and <{np_maxversion}\"\n"
     ]
    },
    {
     "name": "stdout",
     "output_type": "stream",
     "text": [
      "usage: label-studio-converter import yolo [-h] -i INPUT [-o OUTPUT]\n",
      "                                          [--to-name TO_NAME]\n",
      "                                          [--from-name FROM_NAME]\n",
      "                                          [--out-type OUT_TYPE]\n",
      "                                          [--image-root-url IMAGE_ROOT_URL]\n",
      "                                          [--image-ext IMAGE_EXT]\n",
      "                                          [--image-dims IMAGE_DIMS IMAGE_DIMS]\n",
      "\n",
      "options:\n",
      "  -h, --help            show this help message and exit\n",
      "  -i INPUT, --input INPUT\n",
      "                        directory with YOLO where images, labels, notes.json\n",
      "                        are located\n",
      "  -o OUTPUT, --output OUTPUT\n",
      "                        output file with Label Studio JSON tasks\n",
      "  --to-name TO_NAME     object name from Label Studio labeling config\n",
      "  --from-name FROM_NAME\n",
      "                        control tag name from Label Studio labeling config\n",
      "  --out-type OUT_TYPE   annotation type - \"annotations\" or \"predictions\"\n",
      "  --image-root-url IMAGE_ROOT_URL\n",
      "                        root URL path where images will be hosted, e.g.:\n",
      "                        http://example.com/images\n",
      "  --image-ext IMAGE_EXT\n",
      "                        image extension to search: .jpeg or .jpg, .png\n",
      "  --image-dims IMAGE_DIMS IMAGE_DIMS\n",
      "                        optional tuple of integers specifying the image width\n",
      "                        and height of *all* images in the dataset. Defaults to\n",
      "                        opening the image to determine it's width and height,\n",
      "                        which is slower. This should only be used in the\n",
      "                        special case where you dataset has uniform image\n",
      "                        dimesions. e.g. `--image-dims 600 800` if all your\n",
      "                        images are of dimensions width=600, height=800\n"
     ]
    },
    {
     "data": {
      "text/plain": [
       "0"
      ]
     },
     "execution_count": 6,
     "metadata": {},
     "output_type": "execute_result"
    }
   ],
   "source": [
    "os.system('label-studio-converter import yolo -h')"
   ]
  },
  {
   "cell_type": "code",
   "execution_count": 8,
   "metadata": {},
   "outputs": [
    {
     "data": {
      "text/plain": [
       "'label-studio-converter -i /home/aubrey/Desktop/Guam07-training-set/datasets/Guam07v2 -o /home/aubrey/Desktop/Guam07-training-set/datasets/Guam07v2/ls-tasks.json --image-root-url /home/aubrey/Desktop/Guam07-training-set/datasets/Guam07v2/images'"
      ]
     },
     "execution_count": 8,
     "metadata": {},
     "output_type": "execute_result"
    }
   ],
   "source": [
    "commandline = f'label-studio-converter -i {INPUT} -o {OUTPUT} --image-root-url {IMAGES}'\n",
    "commandline"
   ]
  },
  {
   "cell_type": "code",
   "execution_count": null,
   "metadata": {},
   "outputs": [],
   "source": []
  }
 ],
 "metadata": {
  "kernelspec": {
   "display_name": "Python 3",
   "language": "python",
   "name": "python3"
  },
  "language_info": {
   "codemirror_mode": {
    "name": "ipython",
    "version": 3
   },
   "file_extension": ".py",
   "mimetype": "text/x-python",
   "name": "python",
   "nbconvert_exporter": "python",
   "pygments_lexer": "ipython3",
   "version": "3.10.12"
  }
 },
 "nbformat": 4,
 "nbformat_minor": 2
}
