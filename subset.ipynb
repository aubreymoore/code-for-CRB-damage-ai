{
 "cells": [
  {
   "cell_type": "markdown",
   "metadata": {},
   "source": [
    "\n",
    "# subset.ipynb\n",
    "\n",
    "This code subsets a YOLOv8 dataset. \n"
   ]
  },
  {
   "cell_type": "code",
   "execution_count": 1,
   "metadata": {},
   "outputs": [],
   "source": [
    "IMAGES_DIR =  '/home/aubrey/Desktop/Guam07-training-set/datasets/Guam07v2/images' # Original images (*.jpg)\n",
    "LABELS_DIR =  '/home/aubrey/Desktop/Guam07-training-set/datasets/Guam07v2/labels' # Original labels (*.txt; bounding boxes in YOLO annotation format)\n",
    "SUBSETS_DIR = '/home/aubrey/Desktop/Guam07-training-set/datasets/Guam07v3/images' # Output directory structure (images/023/<*.jpg and *.txt files>)\n",
    "IMAGES_PER_SUBSET = 100"
   ]
  },
  {
   "cell_type": "code",
   "execution_count": 2,
   "metadata": {},
   "outputs": [],
   "source": [
    "import numpy as np \n",
    "import glob\n",
    "import os\n",
    "import shutil"
   ]
  },
  {
   "cell_type": "code",
   "execution_count": 3,
   "metadata": {},
   "outputs": [
    {
     "data": {
      "text/plain": [
       "1"
      ]
     },
     "execution_count": 3,
     "metadata": {},
     "output_type": "execute_result"
    }
   ],
   "source": [
    "def multi(pvals):\n",
    "    \"\"\" multinomial random number generator \"\"\"\n",
    "    m = np.random.multinomial(1, pvals)\n",
    "    return np.where(m == 1)[0][0]\n",
    "\n",
    "# This example simulates a roll of a die (faces 1..6, each with a probability of 1/6)\n",
    "multi([1/6]*6) + 1"
   ]
  },
  {
   "cell_type": "code",
   "execution_count": 4,
   "metadata": {},
   "outputs": [
    {
     "name": "stdout",
     "output_type": "stream",
     "text": [
      "image_count=10531, subset_count=105\n",
      "FINISHED\n"
     ]
    }
   ],
   "source": [
    "# MAIN\n",
    "\n",
    "image_list = glob.glob(f'{IMAGES_DIR}/*.jpg')\n",
    "image_count = len(image_list)\n",
    "subset_count = image_count // IMAGES_PER_SUBSET\n",
    "print(f'{image_count=}, {subset_count=}')\n",
    "pvals = [1 / subset_count] * subset_count\n",
    "\n",
    "for image_path in image_list:\n",
    "    \n",
    "    # Generate subset code and ensure there is a subset directory\n",
    "    subset_code = f'{multi(pvals):03}'\n",
    "    subset_dir = f'{SUBSETS_DIR}/{subset_code}'\n",
    "    os.makedirs(subset_dir, exist_ok=True)\n",
    "    \n",
    "    # Copy the image file and the labels file into the subset directory\n",
    "    image_filename =  os.path.basename(image_path)\n",
    "    labels_filename = image_filename.replace('.jpg', '.txt')\n",
    "    shutil.copy(image_path, f'{SUBSETS_DIR}/{subset_code}/{image_filename}')\n",
    "    shutil.copy(f'{LABELS_DIR}/{labels_filename}', f'{SUBSETS_DIR}/{subset_code}/{labels_filename}')\n",
    "    \n",
    "print('FINISHED')"
   ]
  }
 ],
 "metadata": {
  "kernelspec": {
   "display_name": "Python 3",
   "language": "python",
   "name": "python3"
  },
  "language_info": {
   "codemirror_mode": {
    "name": "ipython",
    "version": 3
   },
   "file_extension": ".py",
   "mimetype": "text/x-python",
   "name": "python",
   "nbconvert_exporter": "python",
   "pygments_lexer": "ipython3",
   "version": "3.10.12"
  }
 },
 "nbformat": 4,
 "nbformat_minor": 2
}
