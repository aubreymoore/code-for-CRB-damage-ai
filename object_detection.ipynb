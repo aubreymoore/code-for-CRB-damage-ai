{
 "cells": [
  {
   "cell_type": "markdown",
   "metadata": {},
   "source": [
    "# object_detection.ipynb\n",
    "\n",
    "Detects objects in a folder containing images (*.jpg). \n",
    "Results are saved in an SQLite database,"
   ]
  },
  {
   "cell_type": "code",
   "execution_count": 1,
   "metadata": {},
   "outputs": [],
   "source": [
    "from ultralytics import YOLO\n",
    "import sqlite3\n",
    "from icecream import ic\n",
    "import os\n",
    "import numpy as np"
   ]
  },
  {
   "cell_type": "code",
   "execution_count": 2,
   "metadata": {},
   "outputs": [],
   "source": [
    "MODEL_FILE_PATH = '/home/aubrey/Desktop/Guam07-training-set/code/runs/detect/imgsz9603/weights/best.pt'\n",
    "IMAGE_DIR_PATH = '/home/aubrey/Desktop/Guam07-training-set/rawdatasubset'\n",
    "OBJECTS_DB_FILE_PATH = '/home/aubrey/Desktop/Guam07-training-set/code/rawdatasubset.sqlite3'"
   ]
  },
  {
   "cell_type": "code",
   "execution_count": 3,
   "metadata": {},
   "outputs": [],
   "source": [
    "def detect_objects(model_file_path, image_dir_path):\n",
    "    ic()\n",
    "    model = YOLO(MODEL_FILE_PATH)\n",
    "    results = model(\n",
    "        source=f'{image_dir_path}/*.jpg',\n",
    "        imgsz=960,\n",
    "        agnostic_nms=True,\n",
    "        iou=0.5,\n",
    "        stream=True,\n",
    "        )\n",
    "    return results"
   ]
  },
  {
   "cell_type": "code",
   "execution_count": 4,
   "metadata": {},
   "outputs": [],
   "source": [
    "rng = np.random.default_rng(42)\n",
    "\n",
    "def assign_subset(subset_list=['train', 'val', 'test'], probability_list=[0.8, 0.1, 0.1]):\n",
    "    ''' \n",
    "    Returns member of the subset_list at random using probabilities specified in probability_list.\n",
    "    This function uses a global random number generator (rng).\n",
    "    Use \"rng = np.random.default_rng(42)\" to create rng prior to calling the function.\n",
    "    '''\n",
    "    r = rng.multinomial(1, probability_list)\n",
    "    i = np.where(r == 1)[0][0]\n",
    "    subset = subset_list[i]\n",
    "    return subset\n",
    "\n",
    "# for i in range(20):\n",
    "#     print(i, assign_subset())"
   ]
  },
  {
   "cell_type": "code",
   "execution_count": 5,
   "metadata": {},
   "outputs": [],
   "source": [
    "def detected_objects_to_sqlite(detected_objects, objects_db_file_path):\n",
    "    ic()\n",
    "    if os.path.exists(objects_db_file_path):\n",
    "        os.remove(OBJECTS_DB_FILE_PATH)\n",
    "\n",
    "    conn = sqlite3.connect(objects_db_file_path)\n",
    "    cur = conn.cursor()\n",
    "\n",
    "    cur.execute('DROP TABLE IF EXISTS detected_objects')\n",
    "    table = '''\n",
    "    create table detected_objects (\n",
    "        imagepath TEXT not null,\n",
    "        x REAL not null,\n",
    "        y REAL not null,\n",
    "        w REAL not null,\n",
    "        h REAL not null,\n",
    "        cls INTEGER not null,\n",
    "        conf REAL not null,\n",
    "        subset TEXT NOT NULL\n",
    "    );\n",
    "    '''\n",
    "    cur.execute(table)\n",
    "\n",
    "    for obj in detected_objects:\n",
    "        imagepath = obj.path\n",
    "        boxes = obj.boxes.cpu().numpy()\n",
    "        class_ids = boxes.cls\n",
    "        confidences = boxes.conf\n",
    "        xywhns = boxes.xywhn\n",
    "        n = len(class_ids)\n",
    "        subset = assign_subset()\n",
    "        for i in range(n):\n",
    "            x = xywhns[i][0]    \n",
    "            y = xywhns[i][1]\n",
    "            w = xywhns[i][2]\n",
    "            h = xywhns[i][3]\n",
    "            cls = int(class_ids[i])\n",
    "            conf = confidences[i]\n",
    "            cur.execute(f'INSERT INTO detected_objects VALUES (\"{imagepath}\",{x},{y},{w},{h},{cls},{conf},\"{subset}\")')\n",
    "            conn.commit()\n",
    "    conn.close()"
   ]
  },
  {
   "cell_type": "code",
   "execution_count": 6,
   "metadata": {},
   "outputs": [
    {
     "name": "stderr",
     "output_type": "stream",
     "text": [
      "ic| 2396985220.py:2 in detect_objects() at 08:54:55.203\n",
      "ic| 1308243588.py:2 in detected_objects_to_sqlite() at 08:54:57.261\n"
     ]
    },
    {
     "name": "stdout",
     "output_type": "stream",
     "text": [
      "\n",
      "image 1/63 /home/aubrey/Desktop/Guam07-training-set/rawdatasubset/IMG_20221115_111715.jpg: 544x960 1 low, 67.9ms\n",
      "image 2/63 /home/aubrey/Desktop/Guam07-training-set/rawdatasubset/IMG_20221115_111717.jpg: 544x960 1 low, 3.8ms\n",
      "image 3/63 /home/aubrey/Desktop/Guam07-training-set/rawdatasubset/IMG_20221115_111718.jpg: 544x960 1 low, 3.6ms\n",
      "image 4/63 /home/aubrey/Desktop/Guam07-training-set/rawdatasubset/IMG_20221115_111719.jpg: 544x960 1 low, 3.5ms\n",
      "image 5/63 /home/aubrey/Desktop/Guam07-training-set/rawdatasubset/IMG_20221115_111720.jpg: 544x960 1 low, 3.6ms\n",
      "image 6/63 /home/aubrey/Desktop/Guam07-training-set/rawdatasubset/IMG_20221115_111721.jpg: 544x960 1 medium, 3.4ms\n",
      "image 7/63 /home/aubrey/Desktop/Guam07-training-set/rawdatasubset/IMG_20221115_111722.jpg: 544x960 1 medium, 3.4ms\n",
      "image 8/63 /home/aubrey/Desktop/Guam07-training-set/rawdatasubset/IMG_20221115_111723.jpg: 544x960 1 medium, 3.8ms\n",
      "image 9/63 /home/aubrey/Desktop/Guam07-training-set/rawdatasubset/IMG_20221115_111724.jpg: 544x960 1 medium, 3.6ms\n",
      "image 10/63 /home/aubrey/Desktop/Guam07-training-set/rawdatasubset/IMG_20221115_111725.jpg: 544x960 1 low, 4.3ms\n",
      "image 11/63 /home/aubrey/Desktop/Guam07-training-set/rawdatasubset/IMG_20221115_111727.jpg: 544x960 (no detections), 3.9ms\n",
      "image 12/63 /home/aubrey/Desktop/Guam07-training-set/rawdatasubset/IMG_20221115_111728.jpg: 544x960 1 low, 3.7ms\n",
      "image 13/63 /home/aubrey/Desktop/Guam07-training-set/rawdatasubset/IMG_20221115_111729.jpg: 544x960 1 zero, 3.5ms\n",
      "image 14/63 /home/aubrey/Desktop/Guam07-training-set/rawdatasubset/IMG_20221115_111730.jpg: 544x960 1 low, 3.5ms\n",
      "image 15/63 /home/aubrey/Desktop/Guam07-training-set/rawdatasubset/IMG_20221115_111731.jpg: 544x960 1 low, 3.4ms\n",
      "image 16/63 /home/aubrey/Desktop/Guam07-training-set/rawdatasubset/IMG_20221115_111732.jpg: 544x960 1 zero, 3.4ms\n",
      "image 17/63 /home/aubrey/Desktop/Guam07-training-set/rawdatasubset/IMG_20221115_111733.jpg: 544x960 1 zero, 3.4ms\n",
      "image 18/63 /home/aubrey/Desktop/Guam07-training-set/rawdatasubset/IMG_20221115_111735.jpg: 544x960 1 zero, 3.4ms\n",
      "image 19/63 /home/aubrey/Desktop/Guam07-training-set/rawdatasubset/IMG_20221115_111736.jpg: 544x960 1 zero, 3.3ms\n",
      "image 20/63 /home/aubrey/Desktop/Guam07-training-set/rawdatasubset/IMG_20221115_111737.jpg: 544x960 1 low, 3.5ms\n",
      "image 21/63 /home/aubrey/Desktop/Guam07-training-set/rawdatasubset/IMG_20221115_111739.jpg: 544x960 (no detections), 3.8ms\n",
      "image 22/63 /home/aubrey/Desktop/Guam07-training-set/rawdatasubset/IMG_20221115_111740.jpg: 544x960 1 low, 4.0ms\n",
      "image 23/63 /home/aubrey/Desktop/Guam07-training-set/rawdatasubset/IMG_20221115_111741.jpg: 544x960 (no detections), 3.7ms\n",
      "image 24/63 /home/aubrey/Desktop/Guam07-training-set/rawdatasubset/IMG_20221115_111742.jpg: 544x960 (no detections), 3.8ms\n",
      "image 25/63 /home/aubrey/Desktop/Guam07-training-set/rawdatasubset/IMG_20221115_111743.jpg: 544x960 2 lows, 5.6ms\n",
      "image 26/63 /home/aubrey/Desktop/Guam07-training-set/rawdatasubset/IMG_20221115_111744.jpg: 544x960 2 lows, 3.5ms\n",
      "image 27/63 /home/aubrey/Desktop/Guam07-training-set/rawdatasubset/IMG_20221115_111745.jpg: 544x960 1 low, 3.5ms\n",
      "image 28/63 /home/aubrey/Desktop/Guam07-training-set/rawdatasubset/IMG_20221115_111746.jpg: 544x960 2 lows, 1 medium, 3.5ms\n",
      "image 29/63 /home/aubrey/Desktop/Guam07-training-set/rawdatasubset/IMG_20221115_111748.jpg: 544x960 1 low, 3.4ms\n",
      "image 30/63 /home/aubrey/Desktop/Guam07-training-set/rawdatasubset/IMG_20221115_111749.jpg: 544x960 1 medium, 3.4ms\n",
      "image 31/63 /home/aubrey/Desktop/Guam07-training-set/rawdatasubset/IMG_20221115_111751.jpg: 544x960 2 mediums, 3.5ms\n",
      "image 32/63 /home/aubrey/Desktop/Guam07-training-set/rawdatasubset/IMG_20221115_111752.jpg: 544x960 2 lows, 1 medium, 3.5ms\n",
      "image 33/63 /home/aubrey/Desktop/Guam07-training-set/rawdatasubset/IMG_20221115_111753.jpg: 544x960 2 lows, 1 medium, 4.3ms\n",
      "image 34/63 /home/aubrey/Desktop/Guam07-training-set/rawdatasubset/IMG_20221115_111754.jpg: 544x960 2 lows, 1 medium, 3.5ms\n",
      "image 35/63 /home/aubrey/Desktop/Guam07-training-set/rawdatasubset/IMG_20221115_111755.jpg: 544x960 2 lows, 2 mediums, 3.5ms\n",
      "image 36/63 /home/aubrey/Desktop/Guam07-training-set/rawdatasubset/IMG_20221115_111756.jpg: 544x960 2 lows, 3.5ms\n",
      "image 37/63 /home/aubrey/Desktop/Guam07-training-set/rawdatasubset/IMG_20221115_111757.jpg: 544x960 2 lows, 1 medium, 3.8ms\n",
      "image 38/63 /home/aubrey/Desktop/Guam07-training-set/rawdatasubset/IMG_20221115_111758.jpg: 544x960 1 medium, 3.8ms\n",
      "image 39/63 /home/aubrey/Desktop/Guam07-training-set/rawdatasubset/IMG_20221115_111759.jpg: 544x960 2 mediums, 4.4ms\n",
      "image 40/63 /home/aubrey/Desktop/Guam07-training-set/rawdatasubset/IMG_20221115_111800.jpg: 544x960 2 lows, 3.7ms\n",
      "image 41/63 /home/aubrey/Desktop/Guam07-training-set/rawdatasubset/IMG_20221115_111802.jpg: 544x960 1 low, 3.4ms\n",
      "image 42/63 /home/aubrey/Desktop/Guam07-training-set/rawdatasubset/IMG_20221115_111803.jpg: 544x960 (no detections), 3.5ms\n",
      "image 43/63 /home/aubrey/Desktop/Guam07-training-set/rawdatasubset/IMG_20221115_111804.jpg: 544x960 (no detections), 3.6ms\n",
      "image 44/63 /home/aubrey/Desktop/Guam07-training-set/rawdatasubset/IMG_20221115_111805.jpg: 544x960 (no detections), 5.5ms\n",
      "image 45/63 /home/aubrey/Desktop/Guam07-training-set/rawdatasubset/IMG_20221115_111806.jpg: 544x960 (no detections), 5.8ms\n",
      "image 46/63 /home/aubrey/Desktop/Guam07-training-set/rawdatasubset/IMG_20221115_111807.jpg: 544x960 (no detections), 5.7ms\n",
      "image 47/63 /home/aubrey/Desktop/Guam07-training-set/rawdatasubset/IMG_20221115_111808.jpg: 544x960 1 low, 3.7ms\n",
      "image 48/63 /home/aubrey/Desktop/Guam07-training-set/rawdatasubset/IMG_20221115_111810.jpg: 544x960 3 lows, 1 vcut, 3.4ms\n",
      "image 49/63 /home/aubrey/Desktop/Guam07-training-set/rawdatasubset/IMG_20221115_111812.jpg: 544x960 3 lows, 3.4ms\n",
      "image 50/63 /home/aubrey/Desktop/Guam07-training-set/rawdatasubset/IMG_20221115_111813.jpg: 544x960 2 lows, 3.4ms\n",
      "image 51/63 /home/aubrey/Desktop/Guam07-training-set/rawdatasubset/IMG_20221115_111814.jpg: 544x960 2 lows, 3.5ms\n",
      "image 52/63 /home/aubrey/Desktop/Guam07-training-set/rawdatasubset/IMG_20221115_111815.jpg: 544x960 1 low, 3.5ms\n",
      "image 53/63 /home/aubrey/Desktop/Guam07-training-set/rawdatasubset/IMG_20221115_111816.jpg: 544x960 1 low, 6.0ms\n",
      "image 54/63 /home/aubrey/Desktop/Guam07-training-set/rawdatasubset/IMG_20221115_111817.jpg: 544x960 2 lows, 3.8ms\n",
      "image 55/63 /home/aubrey/Desktop/Guam07-training-set/rawdatasubset/IMG_20221115_111818.jpg: 544x960 1 low, 3.6ms\n",
      "image 56/63 /home/aubrey/Desktop/Guam07-training-set/rawdatasubset/IMG_20221115_111819.jpg: 544x960 1 low, 3.6ms\n",
      "image 57/63 /home/aubrey/Desktop/Guam07-training-set/rawdatasubset/IMG_20221115_111820.jpg: 544x960 (no detections), 3.6ms\n",
      "image 58/63 /home/aubrey/Desktop/Guam07-training-set/rawdatasubset/IMG_20221115_111821.jpg: 544x960 (no detections), 4.4ms\n",
      "image 59/63 /home/aubrey/Desktop/Guam07-training-set/rawdatasubset/IMG_20221115_111822.jpg: 544x960 (no detections), 4.6ms\n",
      "image 60/63 /home/aubrey/Desktop/Guam07-training-set/rawdatasubset/IMG_20221115_111824.jpg: 544x960 1 low, 3.8ms\n",
      "image 61/63 /home/aubrey/Desktop/Guam07-training-set/rawdatasubset/IMG_20221115_111825.jpg: 544x960 3 mediums, 3.5ms\n",
      "image 62/63 /home/aubrey/Desktop/Guam07-training-set/rawdatasubset/IMG_20221115_111826.jpg: 544x960 3 mediums, 3.5ms\n",
      "image 63/63 /home/aubrey/Desktop/Guam07-training-set/rawdatasubset/IMG_20221115_111827.jpg: 544x960 1 low, 2 mediums, 1 vcut, 3.5ms\n",
      "Speed: 1.8ms preprocess, 4.8ms inference, 5.5ms postprocess per image at shape (1, 3, 544, 960)\n",
      "FINISHED\n"
     ]
    }
   ],
   "source": [
    "# MAIN\n",
    "\n",
    "detected_objects = detect_objects(MODEL_FILE_PATH, IMAGE_DIR_PATH)\n",
    "detected_objects_to_sqlite(detected_objects, OBJECTS_DB_FILE_PATH)\n",
    "\n",
    "print('FINISHED')"
   ]
  }
 ],
 "metadata": {
  "kernelspec": {
   "display_name": "Python 3",
   "language": "python",
   "name": "python3"
  },
  "language_info": {
   "codemirror_mode": {
    "name": "ipython",
    "version": 3
   },
   "file_extension": ".py",
   "mimetype": "text/x-python",
   "name": "python",
   "nbconvert_exporter": "python",
   "pygments_lexer": "ipython3",
   "version": "3.10.12"
  }
 },
 "nbformat": 4,
 "nbformat_minor": 2
}
