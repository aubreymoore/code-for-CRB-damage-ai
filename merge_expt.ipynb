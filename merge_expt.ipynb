{
 "cells": [
  {
   "cell_type": "markdown",
   "metadata": {},
   "source": [
    "# merge_expt.ipynb\n",
    "\n",
    "The objective of this experiment is to train a model after merging object classes **[low, medium, high]** to **coconut_palm**.\n",
    "\n",
    "Steps:\n",
    "- copy a \"normal\" dataset\n",
    "- modify **YAML** file\n",
    "- modify **classes** file\n",
    "- edit all labels files (*.txt) to change classes\n",
    "- train on the new dataset\n",
    "\n",
    "The first 3 steps were done manually to save effort."
   ]
  },
  {
   "cell_type": "code",
   "execution_count": 2,
   "metadata": {},
   "outputs": [],
   "source": [
    "import glob"
   ]
  },
  {
   "cell_type": "code",
   "execution_count": 3,
   "metadata": {},
   "outputs": [],
   "source": [
    "DATASET_PATH = '/home/aubrey/Desktop/Guam07-training-set/datasets/merged'"
   ]
  },
  {
   "cell_type": "markdown",
   "metadata": {},
   "source": [
    "## edit all labels files (*.txt) to change classes"
   ]
  },
  {
   "cell_type": "code",
   "execution_count": 32,
   "metadata": {},
   "outputs": [],
   "source": [
    "for labels_file_path in glob.glob(f'{DATASET_PATH}/**/IMG_*.txt'):\n",
    "    lines = []\n",
    "    with open(labels_file_path, 'r') as f:\n",
    "        for line in f.readlines():\n",
    "            line = line.strip()\n",
    "    \n",
    "            if line[0] == '1': # low\n",
    "                line = line.replace('1','0',1)\n",
    "            elif line[0] == '2': # medium\n",
    "                line = line.replace('2','0',1)\n",
    "            elif line[0] == '3': # high\n",
    "                line = line.replace('3','0',1)\n",
    "            elif line[0] == '4': # fatal\n",
    "                line = line.replace('4','1',1)\n",
    "            elif line[0] == '5': # vcut\n",
    "                line =line.replace('5','2',1)\n",
    "                \n",
    "            lines.append(line)\n",
    "                       \n",
    "    with open(labels_file_path, 'w') as f:\n",
    "        f.writelines(lines)"
   ]
  }
 ],
 "metadata": {
  "kernelspec": {
   "display_name": "Python 3",
   "language": "python",
   "name": "python3"
  },
  "language_info": {
   "codemirror_mode": {
    "name": "ipython",
    "version": 3
   },
   "file_extension": ".py",
   "mimetype": "text/x-python",
   "name": "python",
   "nbconvert_exporter": "python",
   "pygments_lexer": "ipython3",
   "version": "3.10.12"
  }
 },
 "nbformat": 4,
 "nbformat_minor": 2
}
